{
 "cells": [
  {
   "cell_type": "markdown",
   "metadata": {},
   "source": [
    "# Stability test"
   ]
  },
  {
   "cell_type": "markdown",
   "metadata": {},
   "source": [
    "## Interferometer chamber\n",
    "\n",
    "### Under vacuum\n"
   ]
  },
  {
   "cell_type": "markdown",
   "metadata": {},
   "source": [
    "Results on the measurements on 07/10/2019:"
   ]
  },
  {
   "cell_type": "code",
   "execution_count": 5,
   "metadata": {},
   "outputs": [],
   "source": [
    "import numpy as np\n",
    "import matplotlib.pyplot as plt\n",
    "import h5py\n",
    "import os\n",
    "import pandas as pd\n",
    "from tqdm import tqdm\n",
    "import scipy.constants as cns\n",
    "from scipy import stats"
   ]
  },
  {
   "cell_type": "code",
   "execution_count": 6,
   "metadata": {},
   "outputs": [],
   "source": [
    "path = 'O:\\\\19_LaserData\\\\14_LTA1\\\\Automatic_recordings\\\\data\\\\frames'\n",
    "fname = os.listdir(path)"
   ]
  },
  {
   "cell_type": "code",
   "execution_count": 7,
   "metadata": {},
   "outputs": [],
   "source": [
    "fname = ['phases_20191007_171431.h5', 'phases_20191008_141408.h5', 'phases_20191008_141419.h5']\n"
   ]
  },
  {
   "cell_type": "code",
   "execution_count": 8,
   "metadata": {},
   "outputs": [
    {
     "data": {
      "text/plain": [
       "['phases_20191007_171431.h5',\n",
       " 'phases_20191008_141408.h5',\n",
       " 'phases_20191008_141419.h5']"
      ]
     },
     "execution_count": 8,
     "metadata": {},
     "output_type": "execute_result"
    }
   ],
   "source": [
    "fname"
   ]
  },
  {
   "cell_type": "code",
   "execution_count": 9,
   "metadata": {},
   "outputs": [],
   "source": [
    "def read_h5file(name):\n",
    "    with h5py.File(name, 'r') as f:\n",
    "        ph = np.array(f['phase'])\n",
    "        ti = np.array(f['time'])\n",
    "        #raw = np.array(f['signal'])\n",
    "    return (ti, ph)\n",
    "\n",
    "def normalize_time(t):\n",
    "    t = t - t.min()\n",
    "    tmp = np.linspace(0, np.round(t.max()), len(t))\n",
    "    return(tmp)\n"
   ]
  },
  {
   "cell_type": "code",
   "execution_count": 10,
   "metadata": {},
   "outputs": [
    {
     "name": "stderr",
     "output_type": "stream",
     "text": [
      "3it [00:01,  1.13it/s]\n"
     ]
    }
   ],
   "source": [
    "exp = []\n",
    "for i,fn in tqdm(enumerate(fname)):\n",
    "    fullname = os.path.join(path, fn)\n",
    "    ti, ph = read_h5file(fullname)\n",
    "    df = pd.DataFrame({'time':ti, 'phase':ph}, index=normalize_time(ti))\n",
    "    exp.append(df)\n"
   ]
  },
  {
   "cell_type": "code",
   "execution_count": 7,
   "metadata": {},
   "outputs": [
    {
     "data": {
      "image/png": "[encoded data removed]",
      "text/plain": [
       "<Figure size 432x288 with 1 Axes>"
      ]
     },
     "metadata": {
      "needs_background": "light"
     },
     "output_type": "display_data"
    }
   ],
   "source": [
    "for i in exp:\n",
    "    i['phase'].plot()"
   ]
  },
  {
   "cell_type": "code",
   "execution_count": 8,
   "metadata": {},
   "outputs": [],
   "source": [
    "exp_mod=[]\n",
    "for m in exp:\n",
    "    tmp = m.copy()\n",
    "    tmp=tmp.drop(columns=['time'])\n",
    "    tmp.phase = tmp.phase - tmp.phase.mean()\n",
    "    tmp['20p_std'] = tmp.phase.rolling(20, center=True).std()\n",
    "    tmp['std'] = tmp.phase.std()\n",
    "    exp_mod.append(tmp)"
   ]
  },
  {
   "cell_type": "markdown",
   "metadata": {},
   "source": [
    "Lets print out the standard deviation of the different measurements."
   ]
  },
  {
   "cell_type": "code",
   "execution_count": 9,
   "metadata": {},
   "outputs": [
    {
     "name": "stdout",
     "output_type": "stream",
     "text": [
      "0.4880411853168481\n",
      "0.7133607207818965\n",
      "0.4670872212054774\n"
     ]
    }
   ],
   "source": [
    "std=[]\n",
    "for i in exp_mod:\n",
    "    print(i.loc[0,'std'])\n",
    "    std.append(i.loc[0,'std'])"
   ]
  },
  {
   "cell_type": "code",
   "execution_count": 10,
   "metadata": {},
   "outputs": [
    {
     "data": {
      "text/plain": [
       "0.5561630424347407"
      ]
     },
     "execution_count": 10,
     "metadata": {},
     "output_type": "execute_result"
    }
   ],
   "source": [
    "np.mean(std)"
   ]
  },
  {
   "cell_type": "markdown",
   "metadata": {},
   "source": [
    "This result tells us that the average standard deviation over the different measurements is 0.61 rad. But this includes the random door closures that causes big noise. Lets investigate instead the distribution of the noise."
   ]
  },
  {
   "cell_type": "code",
   "execution_count": 11,
   "metadata": {},
   "outputs": [
    {
     "data": {
      "text/plain": [
       "(57752, 3)"
      ]
     },
     "execution_count": 11,
     "metadata": {},
     "output_type": "execute_result"
    }
   ],
   "source": [
    "exp_mod[2].shape"
   ]
  },
  {
   "cell_type": "code",
   "execution_count": 12,
   "metadata": {},
   "outputs": [
    {
     "data": {
      "image/png": "[encoded data removed]",
      "text/plain": [
       "<Figure size 432x288 with 6 Axes>"
      ]
     },
     "metadata": {
      "needs_background": "light"
     },
     "output_type": "display_data"
    }
   ],
   "source": [
    "fig, _ = plt.subplots(nrows=3, ncols=2)\n",
    "for j, i in enumerate(exp_mod):\n",
    "    plt.subplot(3, 2, j+1)\n",
    "    plt.hist(i[['phase']].values,bins=100)"
   ]
  },
  {
   "cell_type": "markdown",
   "metadata": {},
   "source": [
    "It is easy to see that any data that is basically outside the -2..2 radian range is an artificial noise that is caused by a door or somebody dancing in the lab. To get a better estimate on the standard deviation we will not focus on the tail events. "
   ]
  },
  {
   "cell_type": "code",
   "execution_count": 15,
   "metadata": {},
   "outputs": [],
   "source": [
    "exp_filtered=[]\n",
    "for m in exp_mod:\n",
    "    tmp = m.copy()\n",
    "    density = stats.gaussian_kde(m.phase)\n",
    "    xx = np.linspace(m.phase.min(), m.phase.max(),300)\n",
    "    dxx = xx[1] - xx[0]\n",
    "    pdf = density.evaluate(xx)\n",
    "    xx_mean = np.sum(xx * pdf) * dxx\n",
    "    std = np.sqrt(np.sum(((xx-xx_mean)**2)*pdf)*dxx)\n",
    "    tmp.phase = tmp.phase - xx_mean\n",
    "    tmp = tmp[(tmp['phase'] > -2*std)]\n",
    "    tmp = tmp[(tmp['phase'] < 2*std)]\n",
    "    tmp['20p_std'] = tmp.phase.rolling(20, center=True).std()\n",
    "    tmp['std'] = tmp.phase.std()\n",
    "    exp_filtered.append(tmp)"
   ]
  },
  {
   "cell_type": "code",
   "execution_count": 18,
   "metadata": {},
   "outputs": [
    {
     "data": {
      "text/plain": [
       "(230091, 3)"
      ]
     },
     "execution_count": 18,
     "metadata": {},
     "output_type": "execute_result"
    }
   ],
   "source": [
    "exp_filtered[0].shape\n",
    "exp_mod[0].shape"
   ]
  },
  {
   "cell_type": "code",
   "execution_count": 19,
   "metadata": {},
   "outputs": [
    {
     "data": {
      "image/png": "[encoded data removed]",
      "text/plain": [
       "<Figure size 432x288 with 6 Axes>"
      ]
     },
     "metadata": {
      "needs_background": "light"
     },
     "output_type": "display_data"
    }
   ],
   "source": [
    "fig, _ = plt.subplots(nrows=3, ncols=2)\n",
    "for j, i in enumerate(exp_filtered):\n",
    "    plt.subplot(3, 2, j+1)\n",
    "    plt.hist(i[['phase']].values,bins=100)"
   ]
  },
  {
   "cell_type": "code",
   "execution_count": 20,
   "metadata": {},
   "outputs": [
    {
     "name": "stdout",
     "output_type": "stream",
     "text": [
      "0.40725395290357036\n",
      "0.5307285981274121\n",
      "0.3925455747003678\n"
     ]
    }
   ],
   "source": [
    "std=[]\n",
    "for i in exp_filtered:\n",
    "    print(i.loc[0,'std'])\n",
    "    std.append(i.loc[0,'std'])"
   ]
  },
  {
   "cell_type": "code",
   "execution_count": 21,
   "metadata": {},
   "outputs": [
    {
     "data": {
      "text/plain": [
       "0.4435093752437835"
      ]
     },
     "execution_count": 21,
     "metadata": {},
     "output_type": "execute_result"
    }
   ],
   "source": [
    "std_mean=np.mean(std)\n",
    "std_mean"
   ]
  },
  {
   "cell_type": "markdown",
   "metadata": {
    "variables": {
     "2*std_mean": "0.887018750487567",
     "std_mean": "0.4435093752437835"
    }
   },
   "source": [
    "The average distance from the mean is $\\pm$ {{std_mean}} radians. Therefore it corresponds to a phase shift of $\\Delta\\phi$= {{2*std_mean}} rad. Assuming a diode laser wavelength $\\lambda$=530 nm, the phase shift corresponds to:"
   ]
  },
  {
   "cell_type": "code",
   "execution_count": 22,
   "metadata": {},
   "outputs": [
    {
     "name": "stdout",
     "output_type": "stream",
     "text": [
      "74.8219119403052 nm\n"
     ]
    }
   ],
   "source": [
    "lbd = 530e-9\n",
    "dphi=2*std_mean\n",
    "dx = dphi*lbd / (2*np.pi)\n",
    "print(dx*1e9, 'nm')"
   ]
  },
  {
   "cell_type": "markdown",
   "metadata": {},
   "source": [
    "This distance is done twice by the light on the interferometer so the temporal stability of the given interferometer is:"
   ]
  },
  {
   "cell_type": "code",
   "execution_count": 23,
   "metadata": {},
   "outputs": [
    {
     "name": "stdout",
     "output_type": "stream",
     "text": [
      "499.1580671472742 as\n"
     ]
    }
   ],
   "source": [
    "dt = 2*dx/cns.c\n",
    "print(dt*1e18, 'as')"
   ]
  },
  {
   "cell_type": "markdown",
   "metadata": {},
   "source": [
    "### Spectral analysis"
   ]
  },
  {
   "cell_type": "code",
   "execution_count": 24,
   "metadata": {},
   "outputs": [
    {
     "name": "stdout",
     "output_type": "stream",
     "text": [
      "191.74166666666667\n",
      "189.46666666666667\n",
      "192.50333333333333\n"
     ]
    }
   ],
   "source": [
    "exp_fft=[]\n",
    "for m in exp_mod:\n",
    "    N = len(m.phase)\n",
    "    t = m.index.values\n",
    "    T = t.max() - t.min()\n",
    "    dw = 2*np.pi / T\n",
    "    dNu = 1 / (t[1]-t[0])\n",
    "    print(dNu)\n",
    "    freq = np.fft.fftshift(np.fft.fftfreq(N) * N * dw) / 2 / np.pi\n",
    "    yft = np.fft.fftshift(np.fft.fft(m.phase))\n",
    "    yft_hamming = np.fft.fftshift(np.fft.fft(m.phase * np.hamming(N)))\n",
    "    tmp = pd.DataFrame({'fft':yft, 'fft_hmg':yft_hamming, 'spectrum':np.abs(yft_hamming)/np.max(np.abs(yft_hamming))}, index=freq)\n",
    "    tmp['sp_smooth'] = tmp[['spectrum']].rolling(20, win_type='hamming', center=True).mean()\n",
    "    exp_fft.append(tmp)"
   ]
  },
  {
   "cell_type": "code",
   "execution_count": null,
   "metadata": {},
   "outputs": [],
   "source": []
  },
  {
   "cell_type": "code",
   "execution_count": 28,
   "metadata": {},
   "outputs": [
    {
     "data": {
      "text/plain": [
       "(0, 0.5)"
      ]
     },
     "execution_count": 28,
     "metadata": {},
     "output_type": "execute_result"
    },
    {
     "data": {
      "image/png": "[encoded data removed]",
      "text/plain": [
       "<Figure size 432x288 with 1 Axes>"
      ]
     },
     "metadata": {
      "needs_background": "light"
     },
     "output_type": "display_data"
    }
   ],
   "source": [
    "alpha = 1\n",
    "for i in exp_fft:\n",
    "    i['sp_smooth'].plot(alpha=alpha)\n",
    "    alpha=alpha-0.2\n",
    "plt.xlim([-10, 15])\n",
    "plt.ylim([0,0.5])"
   ]
  },
  {
   "cell_type": "code",
   "execution_count": null,
   "metadata": {},
   "outputs": [],
   "source": []
  }
 ],
 "metadata": {
  "kernelspec": {
   "display_name": "Python 3",
   "language": "python",
   "name": "python3"
  },
  "language_info": {
   "codemirror_mode": {
    "name": "ipython",
    "version": 3
   },
   "file_extension": ".py",
   "mimetype": "text/x-python",
   "name": "python",
   "nbconvert_exporter": "python",
   "pygments_lexer": "ipython3",
   "version": "3.7.3"
  },
  "toc": {
   "base_numbering": 1,
   "nav_menu": {},
   "number_sections": true,
   "sideBar": true,
   "skip_h1_title": false,
   "title_cell": "Table of Contents",
   "title_sidebar": "Contents",
   "toc_cell": false,
   "toc_position": {},
   "toc_section_display": true,
   "toc_window_display": false
  }
 },
 "nbformat": 4,
 "nbformat_minor": 2
}
