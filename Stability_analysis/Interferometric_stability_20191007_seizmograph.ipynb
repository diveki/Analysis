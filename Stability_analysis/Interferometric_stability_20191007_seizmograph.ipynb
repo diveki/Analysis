{
 "cells": [
  {
   "cell_type": "markdown",
   "metadata": {},
   "source": [
    "# Stability test"
   ]
  },
  {
   "cell_type": "markdown",
   "metadata": {},
   "source": [
    "## Interferometer chamber\n",
    "\n",
    "### Under vacuum\n"
   ]
  },
  {
   "cell_type": "markdown",
   "metadata": {},
   "source": [
    "Results on the measurements on 07/10/2019:"
   ]
  },
  {
   "cell_type": "code",
   "execution_count": 1,
   "metadata": {},
   "outputs": [],
   "source": [
    "import numpy as np\n",
    "import matplotlib.pyplot as plt\n",
    "import h5py\n",
    "import os\n",
    "import pandas as pd\n",
    "from tqdm import tqdm\n",
    "import scipy.constants as cns\n",
    "from scipy import stats"
   ]
  },
  {
   "cell_type": "code",
   "execution_count": 2,
   "metadata": {},
   "outputs": [],
   "source": [
    "path = 'O:\\\\19_LaserData\\\\14_LTA1\\\\Automatic_recordings\\\\data\\\\frames'\n",
    "fname = os.listdir(path)"
   ]
  },
  {
   "cell_type": "code",
   "execution_count": 3,
   "metadata": {},
   "outputs": [],
   "source": [
    "fname = [name for name in fname if ('20191007_' in name and '.h5' in name and 'seiz' in name)]\n"
   ]
  },
  {
   "cell_type": "code",
   "execution_count": 4,
   "metadata": {},
   "outputs": [
    {
     "data": {
      "text/plain": [
       "['phases_20191007_154447_seizmograph.h5',\n",
       " 'phases_20191007_165727_seizmograph.h5',\n",
       " 'phases_20191007_171431_seizmograph.h5',\n",
       " 'phases_20191007_173956_seizmograph.h5']"
      ]
     },
     "execution_count": 4,
     "metadata": {},
     "output_type": "execute_result"
    }
   ],
   "source": [
    "fname"
   ]
  },
  {
   "cell_type": "code",
   "execution_count": 5,
   "metadata": {},
   "outputs": [],
   "source": [
    "def read_h5file(name):\n",
    "    with h5py.File(name, 'r') as f:\n",
    "        ph = np.array(f['phase'])\n",
    "        ti = np.array(f['time'])\n",
    "        #raw = np.array(f['signal'])\n",
    "    return (ti, ph)\n",
    "\n",
    "def read_h5file_seizmograph(name):\n",
    "    with h5py.File(name, 'r') as f:\n",
    "        d = {key:np.array(f[key]) for key in f.keys()}\n",
    "        tmp = pd.DataFrame(d)\n",
    "    return tmp\n",
    "\n",
    "def normalize_time(t):\n",
    "    t = t - t.min()\n",
    "    tmp = np.linspace(0, np.round(t.max()), len(t))\n",
    "    return(tmp)\n",
    "\n"
   ]
  },
  {
   "cell_type": "code",
   "execution_count": 6,
   "metadata": {},
   "outputs": [
    {
     "name": "stderr",
     "output_type": "stream",
     "text": [
      "4it [00:33,  8.25s/it]\n"
     ]
    }
   ],
   "source": [
    "exp = []\n",
    "for i,fn in tqdm(enumerate(fname)):\n",
    "    fullname = os.path.join(path, fn)\n",
    "    df = read_h5file_seizmograph(fullname)\n",
    "    exp.append(df)\n"
   ]
  },
  {
   "cell_type": "code",
   "execution_count": 11,
   "metadata": {},
   "outputs": [
    {
     "name": "stdout",
     "output_type": "stream",
     "text": [
      "<KeysViewHDF5 ['ch1', 'ch2', 'ch3']>\n"
     ]
    }
   ],
   "source": [
    "with h5py.File(os.path.join(path, fname[0]), 'r') as f:\n",
    "    print(f.keys())"
   ]
  },
  {
   "cell_type": "code",
   "execution_count": 7,
   "metadata": {},
   "outputs": [
    {
     "data": {
      "image/png": "[encoded data removed]",
      "text/plain": [
       "<Figure size 432x288 with 3 Axes>"
      ]
     },
     "metadata": {
      "needs_background": "light"
     },
     "output_type": "display_data"
    }
   ],
   "source": [
    "fig, axes = plt.subplots(nrows=1, ncols=3)\n",
    "alpha=1\n",
    "for i in exp[2:]:\n",
    "    i['ch1'].plot(ax=axes[0], alpha=alpha)\n",
    "    i['ch2'].plot(ax=axes[1], alpha=alpha)\n",
    "    i['ch3'].plot(ax=axes[2], alpha=alpha)\n",
    "    alpha=alpha-0.2"
   ]
  },
  {
   "cell_type": "code",
   "execution_count": null,
   "metadata": {},
   "outputs": [
    {
     "data": {
      "text/plain": [
       "<matplotlib.axes._subplots.AxesSubplot at 0x229071dff28>"
      ]
     },
     "execution_count": 8,
     "metadata": {},
     "output_type": "execute_result"
    }
   ],
   "source": [
    "fig, axes = plt.subplots(nrows=1, ncols=3)\n",
    "exp[3].plot(ax=axes[0], alpha=0.5)\n",
    "exp[3].plot(ax=axes[1], alpha=0.5)\n",
    "axes[1].set_xlim([5e5,1e6])\n",
    "exp[3].plot(ax=axes[2], alpha=0.5)"
   ]
  },
  {
   "cell_type": "code",
   "execution_count": null,
   "metadata": {
    "code_folding": []
   },
   "outputs": [],
   "source": [
    "for i in exp:\n",
    "    print(i.corr())"
   ]
  },
  {
   "cell_type": "markdown",
   "metadata": {},
   "source": [
    "It seems like **ch2** and **ch3** are anticorrelated and actually the correlation is not really big between them. "
   ]
  },
  {
   "cell_type": "code",
   "execution_count": null,
   "metadata": {},
   "outputs": [],
   "source": [
    "for i in exp:\n",
    "    print(i.describe())"
   ]
  },
  {
   "cell_type": "code",
   "execution_count": null,
   "metadata": {},
   "outputs": [],
   "source": [
    "exp[3].iloc[670000:700000, ::-1].plot(alpha=0.5)"
   ]
  },
  {
   "cell_type": "markdown",
   "metadata": {},
   "source": [
    "The amplitude of the events is not equal on the channels."
   ]
  },
  {
   "cell_type": "code",
   "execution_count": 8,
   "metadata": {},
   "outputs": [
    {
     "name": "stdout",
     "output_type": "stream",
     "text": [
      "ch1    0.001462\n",
      "ch2    0.001247\n",
      "ch3    0.001784\n",
      "dtype: float64\n",
      "ch1    0.001461\n",
      "ch2    0.001266\n",
      "ch3    0.001824\n",
      "dtype: float64\n",
      "ch1    0.001455\n",
      "ch2    0.001280\n",
      "ch3    0.001816\n",
      "dtype: float64\n",
      "ch1    0.001804\n",
      "ch2    0.001406\n",
      "ch3    0.001872\n",
      "dtype: float64\n"
     ]
    }
   ],
   "source": [
    "for i in exp:\n",
    "    print(i.std())"
   ]
  },
  {
   "cell_type": "markdown",
   "metadata": {},
   "source": [
    "### Spectral analysis"
   ]
  },
  {
   "cell_type": "code",
   "execution_count": 24,
   "metadata": {},
   "outputs": [
    {
     "name": "stdout",
     "output_type": "stream",
     "text": [
      "191.74166666666667\n",
      "189.46666666666667\n",
      "192.50333333333333\n"
     ]
    }
   ],
   "source": [
    "exp_fft=[]\n",
    "for m in exp_mod:\n",
    "    N = len(m.phase)\n",
    "    t = m.index.values\n",
    "    T = t.max() - t.min()\n",
    "    dw = 2*np.pi / T\n",
    "    dNu = 1 / (t[1]-t[0])\n",
    "    print(dNu)\n",
    "    freq = np.fft.fftshift(np.fft.fftfreq(N) * N * dw) / 2 / np.pi\n",
    "    yft = np.fft.fftshift(np.fft.fft(m.phase))\n",
    "    yft_hamming = np.fft.fftshift(np.fft.fft(m.phase * np.hamming(N)))\n",
    "    tmp = pd.DataFrame({'fft':yft, 'fft_hmg':yft_hamming, 'spectrum':np.abs(yft_hamming)/np.max(np.abs(yft_hamming))}, index=freq)\n",
    "    tmp['sp_smooth'] = tmp[['spectrum']].rolling(20, win_type='hamming', center=True).mean()\n",
    "    exp_fft.append(tmp)"
   ]
  },
  {
   "cell_type": "code",
   "execution_count": 14,
   "metadata": {},
   "outputs": [
    {
     "data": {
      "text/plain": [
       "(0, 0.1)"
      ]
     },
     "execution_count": 14,
     "metadata": {},
     "output_type": "execute_result"
    },
    {
     "data": {
      "image/png": "[encoded data removed]",
      "text/plain": [
       "<Figure size 432x288 with 1 Axes>"
      ]
     },
     "metadata": {
      "needs_background": "light"
     },
     "output_type": "display_data"
    }
   ],
   "source": [
    "N = len(exp[0].ch1)\n",
    "#t = m.index.values\n",
    "#T = t.max() - t.min()\n",
    "#dw = 2*np.pi / T\n",
    "#dNu = 1 / (t[1]-t[0])\n",
    "#print(dNu)\n",
    "#freq = np.fft.fftshift(np.fft.fftfreq(N) * N * dw) / 2 / np.pi\n",
    "yft = np.fft.fftshift(np.fft.fft(exp[0].ch1))\n",
    "#yft_hamming = np.fft.fftshift(np.fft.fft(m.phase * np.hamming(N)))\n",
    "#tmp = pd.DataFrame({'fft':yft, 'fft_hmg':yft_hamming, 'spectrum':np.abs(yft_hamming)/np.max(np.abs(yft_hamming))}, index=freq)\n",
    "#tmp['sp_smooth'] = tmp[['spectrum']].rolling(20, win_type='hamming', center=True).mean()\n",
    "plt.plot(np.abs(yft)/np.max(np.abs(yft)))\n",
    "plt.ylim([0,0.1])"
   ]
  },
  {
   "cell_type": "code",
   "execution_count": 28,
   "metadata": {},
   "outputs": [
    {
     "data": {
      "text/plain": [
       "(0, 0.5)"
      ]
     },
     "execution_count": 28,
     "metadata": {},
     "output_type": "execute_result"
    },
    {
     "data": {
      "image/png": "[encoded data removed]",
      "text/plain": [
       "<Figure size 432x288 with 1 Axes>"
      ]
     },
     "metadata": {
      "needs_background": "light"
     },
     "output_type": "display_data"
    }
   ],
   "source": [
    "alpha = 1\n",
    "for i in exp_fft:\n",
    "    i['sp_smooth'].plot(alpha=alpha)\n",
    "    alpha=alpha-0.2\n",
    "plt.xlim([-10, 15])\n",
    "plt.ylim([0,0.5])"
   ]
  },
  {
   "cell_type": "code",
   "execution_count": null,
   "metadata": {},
   "outputs": [],
   "source": []
  }
 ],
 "metadata": {
  "kernelspec": {
   "display_name": "Python 3",
   "language": "python",
   "name": "python3"
  },
  "language_info": {
   "codemirror_mode": {
    "name": "ipython",
    "version": 3
   },
   "file_extension": ".py",
   "mimetype": "text/x-python",
   "name": "python",
   "nbconvert_exporter": "python",
   "pygments_lexer": "ipython3",
   "version": "3.7.3"
  },
  "toc": {
   "base_numbering": 1,
   "nav_menu": {},
   "number_sections": true,
   "sideBar": true,
   "skip_h1_title": false,
   "title_cell": "Table of Contents",
   "title_sidebar": "Contents",
   "toc_cell": false,
   "toc_position": {},
   "toc_section_display": true,
   "toc_window_display": false
  }
 },
 "nbformat": 4,
 "nbformat_minor": 2
}
