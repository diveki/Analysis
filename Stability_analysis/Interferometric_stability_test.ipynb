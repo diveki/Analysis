{
 "cells": [
  {
   "cell_type": "markdown",
   "metadata": {},
   "source": [
    "# Stability test"
   ]
  },
  {
   "cell_type": "markdown",
   "metadata": {},
   "source": [
    "## Interferometer chamber\n",
    "\n",
    "### Under air\n",
    "The following measurements were done under air but the lids of the chamber were on and all the laser path was covered by some plastic tube or the chamber itself. "
   ]
  },
  {
   "cell_type": "markdown",
   "metadata": {},
   "source": [
    "Results on the measurements on 04/10/2019:"
   ]
  },
  {
   "cell_type": "code",
   "execution_count": 39,
   "metadata": {},
   "outputs": [],
   "source": [
    "import numpy as np\n",
    "import matplotlib.pyplot as plt\n",
    "import h5py\n",
    "import os\n",
    "import pandas as pd\n",
    "from tqdm import tqdm\n",
    "import scipy.constants as cns"
   ]
  },
  {
   "cell_type": "code",
   "execution_count": 6,
   "metadata": {},
   "outputs": [],
   "source": [
    "path = 'O:\\\\19_LaserData\\\\14_LTA1\\\\Automatic_recordings\\\\data\\\\frames'\n",
    "fname = os.listdir(path)"
   ]
  },
  {
   "cell_type": "code",
   "execution_count": 7,
   "metadata": {},
   "outputs": [
    {
     "data": {
      "text/plain": [
       "'phases_20191004_133111.h5'"
      ]
     },
     "execution_count": 7,
     "metadata": {},
     "output_type": "execute_result"
    }
   ],
   "source": [
    "fname.pop(1)"
   ]
  },
  {
   "cell_type": "markdown",
   "metadata": {},
   "source": [
    "We drop the second measurements because there were big phase jumps on that. "
   ]
  },
  {
   "cell_type": "code",
   "execution_count": 8,
   "metadata": {},
   "outputs": [],
   "source": [
    "def read_h5file(name):\n",
    "    with h5py.File(name, 'r') as f:\n",
    "        ph = np.array(f['phase'])\n",
    "        ti = np.array(f['time'])\n",
    "        #raw = np.array(f['signal'])\n",
    "    return (ti, ph)\n",
    "\n",
    "def normalize_time(t):\n",
    "    t = t - t.min()\n",
    "    tmp = np.linspace(0, np.round(t.max()), len(t))\n",
    "    return(tmp)\n"
   ]
  },
  {
   "cell_type": "code",
   "execution_count": 61,
   "metadata": {},
   "outputs": [
    {
     "name": "stderr",
     "output_type": "stream",
     "text": [
      "3it [00:00, 17.30it/s]\n"
     ]
    }
   ],
   "source": [
    "exp = []\n",
    "for i,fn in tqdm(enumerate(fname)):\n",
    "    fullname = os.path.join(path, fn)\n",
    "    ti, ph = read_h5file(fullname)\n",
    "    df = pd.DataFrame({'time':ti, 'phase':ph}, index=normalize_time(ti))\n",
    "    exp.append(df)\n"
   ]
  },
  {
   "cell_type": "code",
   "execution_count": 62,
   "metadata": {},
   "outputs": [
    {
     "data": {
      "image/png": "[encoded data removed]",
      "text/plain": [
       "<Figure size 432x288 with 1 Axes>"
      ]
     },
     "metadata": {
      "needs_background": "light"
     },
     "output_type": "display_data"
    }
   ],
   "source": [
    "for i in exp:\n",
    "    i['phase'].plot()"
   ]
  },
  {
   "cell_type": "code",
   "execution_count": 63,
   "metadata": {},
   "outputs": [],
   "source": [
    "exp_mod=[]\n",
    "for m in exp:\n",
    "    tmp = m.copy()\n",
    "    tmp=tmp.drop(columns=['time'])\n",
    "    tmp.phase = tmp.phase - tmp.phase.mean()\n",
    "    tmp['20p_std'] = tmp.phase.rolling(20, center=True).std()\n",
    "    tmp['std'] = tmp.phase.std()\n",
    "    exp_mod.append(tmp)"
   ]
  },
  {
   "cell_type": "markdown",
   "metadata": {},
   "source": [
    "Lets print out the standard deviation of the different measurements."
   ]
  },
  {
   "cell_type": "code",
   "execution_count": 64,
   "metadata": {},
   "outputs": [
    {
     "name": "stdout",
     "output_type": "stream",
     "text": [
      "0.47181366000030045\n",
      "0.6601686788172011\n",
      "0.7107195155120869\n"
     ]
    }
   ],
   "source": [
    "std=[]\n",
    "for i in exp_mod:\n",
    "    print(i.loc[0,'std'])\n",
    "    std.append(i.loc[0,'std'])"
   ]
  },
  {
   "cell_type": "code",
   "execution_count": 65,
   "metadata": {},
   "outputs": [
    {
     "data": {
      "text/plain": [
       "0.6142339514431961"
      ]
     },
     "execution_count": 65,
     "metadata": {},
     "output_type": "execute_result"
    }
   ],
   "source": [
    "np.mean(std)"
   ]
  },
  {
   "cell_type": "markdown",
   "metadata": {},
   "source": [
    "This result tells us that the average standard deviation over the different measurements is 0.61 rad. But this includes the random door closures that causes big noise. Lets investigate instead the distribution of the noise."
   ]
  },
  {
   "cell_type": "code",
   "execution_count": 66,
   "metadata": {},
   "outputs": [
    {
     "data": {
      "image/png": "[encoded data removed]",
      "text/plain": [
       "<Figure size 432x288 with 4 Axes>"
      ]
     },
     "metadata": {
      "needs_background": "light"
     },
     "output_type": "display_data"
    }
   ],
   "source": [
    "fig, (ax0, ax1) = plt.subplots(nrows=2, ncols=2)\n",
    "for j, i in enumerate(exp_mod):\n",
    "    plt.subplot(2, 2, j+1)\n",
    "    plt.hist(i[['phase']].values,bins=100)"
   ]
  },
  {
   "cell_type": "markdown",
   "metadata": {},
   "source": [
    "It is easy to see that any data that is basically outside the -2..2 radian range is an artificial noise that is caused by a door or somebody dancing in the lab. To get a better estimate on the standard deviation we will not focus on the tail events. "
   ]
  },
  {
   "cell_type": "code",
   "execution_count": 67,
   "metadata": {},
   "outputs": [],
   "source": [
    "exp_filtered=[]\n",
    "for m in exp_mod:\n",
    "    tmp = m.copy()\n",
    "    tmp.phase[(tmp['phase'] < -2)] = 0\n",
    "    tmp.phase[(tmp['phase'] > 2)] = 0\n",
    "    tmp['20p_std'] = tmp.phase.rolling(20, center=True).std()\n",
    "    tmp['std'] = tmp.phase.std()\n",
    "    exp_filtered.append(tmp)"
   ]
  },
  {
   "cell_type": "code",
   "execution_count": 68,
   "metadata": {},
   "outputs": [
    {
     "name": "stdout",
     "output_type": "stream",
     "text": [
      "0.38397796134297657\n",
      "0.6394999047074225\n",
      "0.6390220441156537\n"
     ]
    }
   ],
   "source": [
    "std=[]\n",
    "for i in exp_filtered:\n",
    "    print(i.loc[0,'std'])\n",
    "    std.append(i.loc[0,'std'])"
   ]
  },
  {
   "cell_type": "code",
   "execution_count": 69,
   "metadata": {},
   "outputs": [],
   "source": [
    "std_mean=np.mean(std)"
   ]
  },
  {
   "cell_type": "markdown",
   "metadata": {},
   "source": [
    "The average distance from the mean is $\\pm$0.55 radians. Therefore it corresponds to a phase shift of $\\Delta\\phi$=1.1rad. Assuming a diode laser wavelength $\\lambda$=530 nm, the phase shift corresponds to:"
   ]
  },
  {
   "cell_type": "code",
   "execution_count": 70,
   "metadata": {},
   "outputs": [
    {
     "name": "stdout",
     "output_type": "stream",
     "text": [
      "93.49026110277494 nm\n"
     ]
    }
   ],
   "source": [
    "lbd = 530e-9\n",
    "dphi=2*std_mean\n",
    "dx = dphi*lbd / (2*np.pi)\n",
    "print(dx*1e9, 'nm')"
   ]
  },
  {
   "cell_type": "markdown",
   "metadata": {},
   "source": [
    "This distance is done twice by the light on the interferometer so the temporal stability of the given interferometer is:"
   ]
  },
  {
   "cell_type": "code",
   "execution_count": 71,
   "metadata": {},
   "outputs": [
    {
     "name": "stdout",
     "output_type": "stream",
     "text": [
      "623.6998870917222 as\n"
     ]
    }
   ],
   "source": [
    "dt = 2*dx/cns.c\n",
    "print(dt*1e18, 'as')"
   ]
  },
  {
   "cell_type": "markdown",
   "metadata": {},
   "source": [
    "### Spectral analysis"
   ]
  },
  {
   "cell_type": "code",
   "execution_count": 76,
   "metadata": {},
   "outputs": [
    {
     "name": "stdout",
     "output_type": "stream",
     "text": [
      "218.79999999999998\n",
      "161.80833333333334\n",
      "162.915\n"
     ]
    }
   ],
   "source": [
    "exp_fft=[]\n",
    "for m in exp_mod:\n",
    "    N = len(m.phase)\n",
    "    t = m.index.values\n",
    "    T = t.max() - t.min()\n",
    "    dw = 2*np.pi / T\n",
    "    dNu = 1 / (t[1]-t[0])\n",
    "    print(dNu)\n",
    "    freq = np.fft.fftshift(np.fft.fftfreq(N) * N * dw) / 2 / np.pi\n",
    "    yft = np.fft.fftshift(np.fft.fft(m.phase))\n",
    "    yft_hamming = np.fft.fftshift(np.fft.fft(m.phase * np.hamming(N)))\n",
    "    tmp = pd.DataFrame({'fft':yft, 'fft_hmg':yft_hamming, 'spectrum':np.abs(yft_hamming)/np.max(np.abs(yft_hamming))}, index=freq)\n",
    "    tmp['sp_smooth'] = tmp[['spectrum']].rolling(20, win_type='hamming', center=True).mean()\n",
    "    exp_fft.append(tmp)"
   ]
  },
  {
   "cell_type": "code",
   "execution_count": null,
   "metadata": {},
   "outputs": [],
   "source": []
  },
  {
   "cell_type": "code",
   "execution_count": 79,
   "metadata": {},
   "outputs": [
    {
     "data": {
      "text/plain": [
       "(0, 0.1)"
      ]
     },
     "execution_count": 79,
     "metadata": {},
     "output_type": "execute_result"
    },
    {
     "data": {
      "image/png": "[encoded data removed]",
      "text/plain": [
       "<Figure size 432x288 with 1 Axes>"
      ]
     },
     "metadata": {
      "needs_background": "light"
     },
     "output_type": "display_data"
    }
   ],
   "source": [
    "for i in exp_fft:\n",
    "    i['sp_smooth'].plot()\n",
    "plt.xlim([-10, 10])\n",
    "plt.ylim([0,0.1])"
   ]
  },
  {
   "cell_type": "code",
   "execution_count": null,
   "metadata": {},
   "outputs": [],
   "source": []
  }
 ],
 "metadata": {
  "kernelspec": {
   "display_name": "Python 3",
   "language": "python",
   "name": "python3"
  },
  "language_info": {
   "codemirror_mode": {
    "name": "ipython",
    "version": 3
   },
   "file_extension": ".py",
   "mimetype": "text/x-python",
   "name": "python",
   "nbconvert_exporter": "python",
   "pygments_lexer": "ipython3",
   "version": "3.7.3"
  }
 },
 "nbformat": 4,
 "nbformat_minor": 2
}
